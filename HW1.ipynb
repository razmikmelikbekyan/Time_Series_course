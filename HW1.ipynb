{
 "cells": [
  {
   "cell_type": "markdown",
   "metadata": {},
   "source": [
    "<span style=\"font-size: 14pt\">EREVAN, May-June 2017</span>\n",
    "\n",
    "<span style=\"font-size: 16pt\"> Seminar #2: Exponential smoothing models\n",
    "\n",
    "<span style=\"color:blue; font-size: 12pt\">Alexey Romanenko </span>,\n",
    "<span style=\"color:blue; font-size: 12pt; font-family: 'Verdana'\">alexromsput@gmail.com</span>\n",
    "\n",
    "\n",
    "<h1 align=\"center\"> Home Work 1 </h1>\n",
    "\n",
    "## Answer questions\n",
    "\n",
    "1) ** How do adaptive properties of SES change when smoothing parametr $\\alpha$ converges to 1?**\n",
    "\n",
    "last points get much bigger weights\n",
    "\n",
    "2) ** What will be the optimal value of smoothing parameter of trend $\\beta$ in Hold model for 1) time series with slowly  changing trend; 2) stochastic changing trend (look <a href=\"http://stochastictrend.blogspot.am/\">here </a>)? **\n",
    "\n",
    "<Answer>\n",
    "\n",
    "3) **Proof the equivalency of correction error form and smoothing form for unobserved component of TS in  Thei-Wage model (period of seasonality equals $p$):**\n",
    "\n",
    " (1) $$l_t = \\alpha (y_t - s_{t-p}) + (1-\\alpha) (l_{t-1} + b_{t-1} )=l_{t-1} + b_{t-1} + \\alpha e_t;$$\n",
    " (2) $$ b_t = \\beta (l_{t} - l_{t-1} ) + (1-\\beta) b_{t-1} = b_{t-1} + \\alpha\\beta e_t;$$\n",
    " (3) $$ s_t = \\gamma (y_t-l_t) + (1-\\gamma) s_{t-p} = s_{t-p} + \\gamma(1-\\alpha)e_t.$$\n",
    "\n",
    "\n",
    "    Value at time point t is:\n",
    " (4) $$y_{t|t-1} = e_t + l_{t-1} + b_{t-1} + s_{t-p}$$\n",
    "  \n",
    "    Using this value in the (1) equation we can prove correction.\n",
    "    Then we can allready proven equation to prove equation (2).\n",
    "    Then with the use of equation (1) and (4) we can prove equation (3).\n",
    "    \n",
    "\n",
    "4) **Find the correction error form for unobserved component of TS in ES with additive damped trend:**\n",
    "\n",
    "(1) $$\\hat{y}_{t+d|t} = l_t + \\left(\\phi + \\phi^2 + \\dots + \\phi^{d}\\right) b_t.$$\n",
    "\n",
    "**Unobserved components are (in smoothing form): **\n",
    "\n",
    "(2) $$ l_{t}       = \\alpha y_t + \\left(1-\\alpha\\right) \\left(l_{t-1} +\\phi b_{t-1}\\right),$$\n",
    "(3) $$ b_t         = \\beta \\left(l_t - l_{t-1}\\right) + \\left(1-\\beta\\right)\\phi b_{t-1}.$$\n",
    "\n",
    "As we have (1) than we can for time t-1 and d=1 we can write:\n",
    "\n",
    "(4)    $$\\hat{y}_{t|t-1} = l_{t-1} + \\phi b_{t-1}$$\n",
    "\n",
    "On the other hand:\n",
    "\n",
    "(5)    $$y_t = \\hat{y}_t + e_t = l_{t-1} + \\phi b_{t-1} + e_t $$\n",
    "\n",
    "Using equation above in the equation (2) we can get:\n",
    "\n",
    "(6) $$ l_{t}       = l_{t-1} +\\phi b_{t-1} + \\alpha e_t $$\n",
    "\n",
    "Put equation (6) in the equation (3) we will get:\n",
    "\n",
    "$$ b_t         = \\phi b_{t-1} + \\alpha \\beta e_t$$"
   ]
  },
  {
   "cell_type": "code",
   "execution_count": null,
   "metadata": {
    "collapsed": true
   },
   "outputs": [],
   "source": []
  }
 ],
 "metadata": {
  "anaconda-cloud": {},
  "kernelspec": {
   "display_name": "Python 3",
   "language": "python",
   "name": "python3"
  },
  "language_info": {
   "codemirror_mode": {
    "name": "ipython",
    "version": 3
   },
   "file_extension": ".py",
   "mimetype": "text/x-python",
   "name": "python",
   "nbconvert_exporter": "python",
   "pygments_lexer": "ipython3",
   "version": "3.6.0"
  }
 },
 "nbformat": 4,
 "nbformat_minor": 1
}
