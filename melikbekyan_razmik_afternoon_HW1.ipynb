{
 "cells": [
  {
   "cell_type": "markdown",
   "metadata": {},
   "source": [
    "<span style=\"font-size: 14pt\">EREVAN, May-June 2017</span>\n",
    "\n",
    "<span style=\"font-size: 16pt\"> Seminar #2: Exponential smoothing models\n",
    "\n",
    "<span style=\"color:blue; font-size: 12pt\">Alexey Romanenko </span>,\n",
    "<span style=\"color:blue; font-size: 12pt; font-family: 'Verdana'\">alexromsput@gmail.com</span>\n",
    "\n",
    "\n",
    "<h1 align=\"center\"> Home Work 1 </h1>\n",
    "\n",
    "## Answer questions\n",
    "\n",
    "1) ** How do adaptive properties of SES change when smoothing parametr $\\alpha$ converges to 1?**\n",
    "\n",
    "<Answer>\n",
    "\n",
    "2) ** What will be the optimal value of smoothing parameter of trend $\\beta$ in Hold model for 1) time series with slowly  changing trend; 2) stochastic changing trend (look <a href=\"http://stochastictrend.blogspot.am/\">here </a>)? **\n",
    "\n",
    "<Answer>\n",
    "\n",
    "3) **Proof the equivalency of correction error form and smoothing form for unobserved component of TS in  Thei-Wage model (period of seasonality equals $p$):**\n",
    "\n",
    "  $$l_t = \\alpha (y_t - s_{t-p}) + (1-\\alpha) (l_{t-1} + b_{t-1} )=l_{t-1} + b_{t-1} + \\alpha e_t;$$\n",
    "  $$ b_t = \\beta (l_{t} - l_{t-1} ) + (1-\\beta) b_{t-1} = b_{t-1} + \\alpha\\beta e_t;$$\n",
    "  $$ s_t = \\gamma (y_t-l_t) + (1-\\gamma) s_{t-p} = s_{t-p} + \\gamma(1-\\alpha)e_t.$$\n",
    "\n",
    "\n",
    "4) **Find the correction error form for unobserved component of TS in ES with additive damped trend:**\n",
    "\n",
    "$$\\hat{y}_{t+d|t} = l_t + \\left(\\phi + \\phi^2 + \\dots + \\phi^{d}\\right) b_t.$$\n",
    "\n",
    "**Unobserved components are (in smoothing form): **\n",
    "\n",
    "$$ l_{t}       = \\alpha y_t + \\left(1-\\alpha\\right) \\left(l_{t-1} +\\phi b_{t-1}\\right),$$\n",
    "$$ b_t         = \\beta \\left(l_t - l_{t-1}\\right) + \\left(1-\\beta\\right)\\phi b_{t-1}.$$"
   ]
  },
  {
   "cell_type": "markdown",
   "metadata": {},
   "source": [
    "### 1.1 Answer"
   ]
  },
  {
   "cell_type": "markdown",
   "metadata": {},
   "source": [
    "When alpha convergens to 1, it means that $ {\\lvert}K_t{\\rvert} \\rightarrow{} 1$. This means that there is a there is trend in the TS. So the prediction graph just repeat original with some shift."
   ]
  },
  {
   "cell_type": "markdown",
   "metadata": {},
   "source": [
    "### 1.2 Answer"
   ]
  },
  {
   "cell_type": "markdown",
   "metadata": {},
   "source": [
    "The Hold's model is the following:\n",
    "  $$\\hat{y}_{t+d|t} = l_t + b_td;$$\n",
    "  $$l_t = \\alpha y_t + (1-\\alpha) (l_{t-1} + b_{t-1} );$$\n",
    "  $$ b_t = \\beta (l_{t} - l_{t-1}) + (1-\\beta) b_{t-1}.$$\n",
    "\n",
    "So for the slowly changing trend TS we need to keep $b_t$ as constant as possible $(b_t \\approx b_{t-1})$ . From the equation of $b_t$ we conclude that in the case of slowly changing trend we should choose $\\beta$ close to 0.\n",
    "\n",
    "The opposite of slowly changing trend is the stochastic one, when the trend is changing significantly during time. In order to catch up the changing trend we should choose $\\beta$ close to 1."
   ]
  },
  {
   "cell_type": "markdown",
   "metadata": {},
   "source": [
    "### 1.3 Answer"
   ]
  },
  {
   "cell_type": "markdown",
   "metadata": {},
   "source": [
    "  $$ l_t = \\alpha (y_t - s_{t-p}) + (1-\\alpha) (l_{t-1} + b_{t-1} )=l_{t-1} + b_{t-1} + \\alpha e_t; $$\n",
    "  $$ b_t = \\beta (l_{t} - l_{t-1} ) + (1-\\beta) b_{t-1} = b_{t-1} + \\alpha\\beta e_t; $$\n",
    "  $$ s_t = \\gamma (y_t-l_t) + (1-\\gamma) s_{t-p} = s_{t-p} + \\gamma(1-\\alpha)e_t. $$\n",
    "\n",
    "\n",
    "* $$ \\hat{y}_{t|t-1} = l_{t-1} + b_{t-1} + s_{t-p}.$$\n",
    "* $$ e_t = y_t - \\hat{y}_{t|t-1} \t\\Rightarrow y_t = e_t + l_{t-1} + b_{t-1} + s_{t-p}.$$\n",
    "\n",
    "Put expression of $y_t$ in the expression of $l_t$:\n",
    "\n",
    "* $$ l_t = \\alpha (y_t - s_{t-p}) + (1-\\alpha) (l_{t-1} + b_{t-1} ) = $$\n",
    "$$ = \\alpha (e_t + l_{t-1} + b_{t-1} + s_{t-p} - s_{t-p}) + (1-\\alpha) (l_{t-1} + b_{t-1} ) = $$\n",
    "$$ = \\alpha e_t +  \\alpha(l_{t-1} + b_{t-1}) + (1-\\alpha) (l_{t-1} + b_{t-1} ) = $$ $$ = l_{t-1} + b_{t-1} + \\alpha e_t. $$\n",
    "\n",
    "Put expression of $l_t$ in the expression of $b_t$:\n",
    "\n",
    "*  $$ b_t = \\beta (l_{t} - l_{t-1} ) + (1-\\beta) b_{t-1} = $$\n",
    "$$ = \\beta (l_{t-1} + b_{t-1} + \\alpha e_t - l_{t-1} ) + (1-\\beta) b_{t-1} = $$\n",
    "$$ = \\beta b_{t-1} + (1-\\beta) b_{t-1} + \\beta \\alpha e_t = $$\n",
    "$$ = b_{t-1} + \\alpha\\beta e_t.$$\n",
    "\n",
    "Put expressions of $y_t$ and $l_t$ in the expression of $s_t$:\n",
    "\n",
    "* $$ s_t = \\gamma (y_t-l_t) + (1-\\gamma) s_{t-p} =$$\n",
    "$$ = \\gamma (e_t + l_{t-1} + b_{t-1} + s_{t-p}-(l_{t-1} + b_{t-1} + \\alpha e_t)) + (1-\\gamma) s_{t-p} = $$\n",
    "$$ = \\gamma (e_t + s_{t-p}-\\alpha e_t) + (1-\\gamma) s_{t-p} = $$\n",
    "$$ = \\gamma (1 - \\alpha)e_t + \\gamma s_{t-p} + (1-\\gamma) s_{t-p} = $$\n",
    "$$ = s_{t-p} + \\gamma(1-\\alpha)e_t.$$"
   ]
  },
  {
   "cell_type": "markdown",
   "metadata": {},
   "source": [
    "### 1.4 Answer"
   ]
  },
  {
   "cell_type": "markdown",
   "metadata": {},
   "source": [
    " $$ l_{t}       = \\alpha y_t + \\left(1-\\alpha\\right) \\left(l_{t-1} +\\phi b_{t-1}\\right);$$\n",
    "$$ b_t         = \\beta \\left(l_t - l_{t-1}\\right) + \\left(1-\\beta\\right)\\phi b_{t-1};$$\n",
    "$$\\hat{y}_{t+d|t} = l_t + \\left(\\phi + \\phi^2 + \\dots + \\phi^{d}\\right) b_t.$$\n",
    "\n",
    "From expression of $\\hat{y}_{t+d|t}$ for $\\hat{y}_{t|t-1}$ we have:\n",
    "\n",
    "* $$\\hat{y}_{t|t-1} = l_{t-1} + \\phi b_{t-1}.$$\n",
    "* $$ e_t = y_t - \\hat{y}_{t|t-1} \t\\Rightarrow y_t = e_t + l_{t-1} + \\phi b_{t-1} .$$\n",
    "\n",
    "Put expression of $y_t$ in the expression of $l_t$:\n",
    "\n",
    "* $$ l_{t} = \\alpha y_t + \\left(1-\\alpha\\right) \\left(l_{t-1} +\\phi b_{t-1}\\right) = $$\n",
    "$$ = \\alpha (e_t + l_{t-1} + \\phi b_{t-1}) + \\left(1-\\alpha\\right) \\left(l_{t-1} +\\phi b_{t-1}\\right) = $$\n",
    "$$ = \\alpha e_t + \\alpha (l_{t-1} + \\phi b_{t-1}) + \\left(1-\\alpha\\right) \\left(l_{t-1} +\\phi b_{t-1}\\right) = $$\n",
    "$$ = \\alpha e_t + l_{t-1} +\\phi b_{t-1}. $$\n",
    "\n",
    "Put expression of $l_t$ in the expression of $b_t$:\n",
    "\n",
    "*  $$ b_t = \\beta \\left(l_t - l_{t-1}\\right) + \\left(1-\\beta\\right)\\phi b_{t-1} = $$\n",
    "$$ = \\beta \\left(\\alpha e_t + l_{t-1} +\\phi b_{t-1} - l_{t-1}\\right) + \\left(1-\\beta\\right)\\phi b_{t-1} = $$\n",
    "$$ = \\beta \\alpha e_t + \\beta \\phi b_{t-1}   + \\left(1-\\beta\\right)\\phi b_{t-1} = $$\n",
    "$$ = \\beta \\alpha e_t + \\phi b_{t-1}.$$\n"
   ]
  }
 ],
 "metadata": {
  "anaconda-cloud": {},
  "kernelspec": {
   "display_name": "Python 3",
   "language": "python",
   "name": "python3"
  },
  "language_info": {
   "codemirror_mode": {
    "name": "ipython",
    "version": 3
   },
   "file_extension": ".py",
   "mimetype": "text/x-python",
   "name": "python",
   "nbconvert_exporter": "python",
   "pygments_lexer": "ipython3",
   "version": "3.6.1"
  }
 },
 "nbformat": 4,
 "nbformat_minor": 1
}
